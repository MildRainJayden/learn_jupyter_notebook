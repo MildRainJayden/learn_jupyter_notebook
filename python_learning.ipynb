{
 "cells": [
  {
   "cell_type": "code",
   "execution_count": 2,
   "id": "1e3accdb",
   "metadata": {},
   "outputs": [
    {
     "name": "stdout",
     "output_type": "stream",
     "text": [
      "hello world!\n"
     ]
    }
   ],
   "source": [
    "print(\"hello world!\")"
   ]
  },
  {
   "cell_type": "code",
   "execution_count": 4,
   "id": "83a573bb",
   "metadata": {},
   "outputs": [
    {
     "name": "stdout",
     "output_type": "stream",
     "text": [
      "5 10\n",
      "10 5\n"
     ]
    }
   ],
   "source": [
    "x,y=5,10\n",
    "print(x,y)\n",
    "x,y=y,x\n",
    "print(x,y)"
   ]
  },
  {
   "cell_type": "code",
   "execution_count": 6,
   "id": "c1dc8f94",
   "metadata": {},
   "outputs": [
    {
     "name": "stdout",
     "output_type": "stream",
     "text": [
      "1 0\n"
     ]
    }
   ],
   "source": [
    "a,b=0,1\n",
    "a,b=b,a\n",
    "complex(1,1)\n",
    "print(a,b)"
   ]
  },
  {
   "cell_type": "code",
   "execution_count": 4,
   "id": "2ac24210",
   "metadata": {},
   "outputs": [
    {
     "name": "stdout",
     "output_type": "stream",
     "text": [
      "10 8\n"
     ]
    }
   ],
   "source": [
    "a,b=10,0o10\n",
    "print(a,b)"
   ]
  },
  {
   "cell_type": "code",
   "execution_count": 5,
   "id": "3e383d2c",
   "metadata": {},
   "outputs": [
    {
     "data": {
      "text/plain": [
       "sys.float_info(max=1.7976931348623157e+308, max_exp=1024, max_10_exp=308, min=2.2250738585072014e-308, min_exp=-1021, min_10_exp=-307, dig=15, mant_dig=53, epsilon=2.220446049250313e-16, radix=2, rounds=1)"
      ]
     },
     "execution_count": 5,
     "metadata": {},
     "output_type": "execute_result"
    }
   ],
   "source": [
    "import sys#\n",
    "sys.float_info #"
   ]
  },
  {
   "cell_type": "code",
   "execution_count": 8,
   "id": "78996091",
   "metadata": {},
   "outputs": [
    {
     "name": "stdout",
     "output_type": "stream",
     "text": [
      "(3+5.5j) 3250j (5-3.5j) (5+0j) 0j\n"
     ]
    }
   ],
   "source": [
    "c1,c2,c3,c4,c5=3+5.5j,3.25e3j,complex(5,-3.5),complex(5),complex()\n",
    "print(c1,c2,c3,c4,c5)"
   ]
  },
  {
   "cell_type": "code",
   "execution_count": 13,
   "id": "b3f62266",
   "metadata": {},
   "outputs": [
    {
     "name": "stdout",
     "output_type": "stream",
     "text": [
      "29\n",
      "35\n",
      "35\n"
     ]
    }
   ],
   "source": [
    "print(int('35',8))\n",
    "print(\"%o\"%int('35',8))\n",
    "print(\"%o\"%int('29',10))"
   ]
  },
  {
   "cell_type": "code",
   "execution_count": 14,
   "id": "3f7808ba",
   "metadata": {},
   "outputs": [
    {
     "name": "stdout",
     "output_type": "stream",
     "text": [
      "35.0\n"
     ]
    }
   ],
   "source": [
    "print(float('35'))"
   ]
  },
  {
   "cell_type": "code",
   "execution_count": 20,
   "id": "9f6c3566",
   "metadata": {},
   "outputs": [
    {
     "name": "stdout",
     "output_type": "stream",
     "text": [
      "It's a cat.\n"
     ]
    }
   ],
   "source": [
    "str='It\\'s a cat.'\n",
    "#str='Hello \\\n",
    "#World!'\n",
    "print(str)"
   ]
  },
  {
   "cell_type": "code",
   "execution_count": 30,
   "id": "353aec69",
   "metadata": {},
   "outputs": [
    {
     "name": "stdout",
     "output_type": "stream",
     "text": [
      "学习\n",
      "设计\n",
      "程序设计!\n",
      "欢迎学习Python\n",
      "欢迎学习Python语言程序设计!\n",
      "学\n",
      "学\n"
     ]
    }
   ],
   "source": [
    "s='欢迎学习Python语言程序设计!'\n",
    "print(s[2:4])\n",
    "print(s[-3:-1])\n",
    "print(s[-5:])\n",
    "print(s[:10])\n",
    "print(s[:])\n",
    "print(s[2])\n",
    "print(s[2:3])"
   ]
  },
  {
   "cell_type": "code",
   "execution_count": 42,
   "id": "6a250e42",
   "metadata": {},
   "outputs": [
    {
     "name": "stdout",
     "output_type": "stream",
     "text": [
      "['test']\n",
      "test\n",
      "['Python', 20, 6]\n"
     ]
    }
   ],
   "source": [
    "Is=[1,2.5,'test',3+4j,True,[3,1,63],5.3]\n",
    "print(Is[2:3])\n",
    "print(Is[2])\n",
    "Is[2:4]=['Python',20,6 ]\n",
    "print(Is[2:5])"
   ]
  },
  {
   "cell_type": "code",
   "execution_count": 2,
   "id": "6c652415",
   "metadata": {},
   "outputs": [
    {
     "name": "stdout",
     "output_type": "stream",
     "text": [
      "{'one': 1, 'two': 2, 'three': 3}\n",
      "{'one': 1, 'two': 2, 'three': 3}\n",
      "{'one': 1, 'two': 2, 'three': 3}\n"
     ]
    }
   ],
   "source": [
    "b=dict(one=1,two=2,three=3)\n",
    "c=dict(zip(['one','two','three'],[1,2,3]))\n",
    "d=dict([('one',1),('two',2),('three',3)])\n",
    "print(b)\n",
    "print(c)\n",
    "print(d)"
   ]
  },
  {
   "cell_type": "code",
   "execution_count": 20,
   "id": "e7b40eba",
   "metadata": {},
   "outputs": [
    {
     "name": "stdout",
     "output_type": "stream",
     "text": [
      "   小明上次数学成绩00085,本次00090,提高00000.06\n"
     ]
    }
   ],
   "source": [
    "s3='%5s上次数学成绩%05d,本次%05d,提高%08.2f'%('小明',85,90,5/85)\n",
    "print(s3)"
   ]
  },
  {
   "cell_type": "code",
   "execution_count": 23,
   "id": "42b7b9df",
   "metadata": {},
   "outputs": [
    {
     "name": "stdout",
     "output_type": "stream",
     "text": [
      "4.800000000000001\n",
      "False\n"
     ]
    }
   ],
   "source": [
    "f1=3.2\n",
    "f2=1.5\n",
    "print(f1*f2)\n",
    "print((4.8)==f1*f2)"
   ]
  },
  {
   "cell_type": "code",
   "execution_count": 26,
   "id": "4768947d",
   "metadata": {},
   "outputs": [
    {
     "name": "stdout",
     "output_type": "stream",
     "text": [
      "2\n",
      "12\n"
     ]
    }
   ],
   "source": [
    "i1=3\n",
    "i2=6\n",
    "print(i1&i2)\n",
    "print(i1<<2)"
   ]
  },
  {
   "cell_type": "code",
   "execution_count": 30,
   "id": "7407ca42",
   "metadata": {},
   "outputs": [
    {
     "name": "stdout",
     "output_type": "stream",
     "text": [
      "True\n",
      "False\n",
      "True\n"
     ]
    }
   ],
   "source": [
    "x,y=15,15\n",
    "print(x is y)\n",
    "print(x is not y)\n",
    "print(x == 15)"
   ]
  },
  {
   "cell_type": "code",
   "execution_count": 32,
   "id": "388eafb1",
   "metadata": {},
   "outputs": [
    {
     "name": "stdout",
     "output_type": "stream",
     "text": [
      "False\n",
      "True\n",
      "True\n",
      "True\n"
     ]
    }
   ],
   "source": [
    "x,y=[1,2,3],[1,2,3]\n",
    "print(x is y)\n",
    "print(x is not y)\n",
    "print(x == y)\n",
    "x=y\n",
    "print(x is y)\n"
   ]
  },
  {
   "cell_type": "code",
   "execution_count": 36,
   "id": "10ee4125",
   "metadata": {},
   "outputs": [
    {
     "name": "stdout",
     "output_type": "stream",
     "text": [
      "True\n",
      "False\n"
     ]
    }
   ],
   "source": [
    "x,y='one',{'one':1,'two':2,'three':3}\n",
    "print(x in y)\n",
    "print(1 in y)"
   ]
  },
  {
   "cell_type": "code",
   "execution_count": 1,
   "id": "7d651f6a",
   "metadata": {},
   "outputs": [
    {
     "name": "stdout",
     "output_type": "stream",
     "text": [
      "Python\n",
      "C++\n",
      "Java\n"
     ]
    }
   ],
   "source": [
    "ls=['Python','C++','Java']\n",
    "for k in ls:\n",
    "    print(k)"
   ]
  },
  {
   "cell_type": "code",
   "execution_count": 9,
   "id": "ab6d23bf",
   "metadata": {},
   "outputs": [
    {
     "name": "stdout",
     "output_type": "stream",
     "text": [
      "Python 1\n",
      "C++ 2\n",
      "Java 3\n"
     ]
    }
   ],
   "source": [
    "ls={'Python':1,'C++':2,'Java':3}\n",
    "for k in ls:\n",
    "    print(k,ls[k])"
   ]
  },
  {
   "cell_type": "code",
   "execution_count": 11,
   "id": "766532e4",
   "metadata": {},
   "outputs": [
    {
     "name": "stdout",
     "output_type": "stream",
     "text": [
      "请输入一个大于1的整数3\n"
     ]
    }
   ],
   "source": [
    "n=eval(input('请输入一个大于1的整数'))\n",
    "m=int(n**0.5)\n",
    "for i in range(2,m+1):\n",
    "     if n%i==0:\n",
    "            break\n",
    "     else:\n",
    "        print('%d是素数%n')"
   ]
  },
  {
   "cell_type": "code",
   "execution_count": 14,
   "id": "8b9de284",
   "metadata": {},
   "outputs": [
    {
     "name": "stdout",
     "output_type": "stream",
     "text": [
      "input r=2\n",
      "半径为2.00的圆的面积为12.56\n"
     ]
    }
   ],
   "source": [
    "def CalCircleArea(r):\n",
    "    s=3.14*r**2\n",
    "    print('半径为%.2f的圆的面积为%.2f'%(r,s))\n",
    "a=eval(input('input r='))\n",
    "CalCircleArea(a)"
   ]
  },
  {
   "cell_type": "code",
   "execution_count": 15,
   "id": "d6b03cf4",
   "metadata": {},
   "outputs": [
    {
     "name": "stdout",
     "output_type": "stream",
     "text": [
      "姓名:大卫,中文水平:良好,国家:美国\n"
     ]
    }
   ],
   "source": [
    "def stuinfo(name ,chineselevel='良好',country='中国'):\n",
    "    print('姓名:%s,中文水平:%s,国家:%s'%(name,chineselevel,country))\n",
    "stuinfo('大卫',country='美国')"
   ]
  },
  {
   "cell_type": "code",
   "execution_count": 19,
   "id": "65f990f0",
   "metadata": {},
   "outputs": [
    {
     "name": "stdout",
     "output_type": "stream",
     "text": [
      "姓名: 李晓明 ,国家: 中国 ,其他: (19, '良好')\n",
      "姓名: 大卫 ,国家: 美国 ,其他: (19, '良好')\n"
     ]
    }
   ],
   "source": [
    "def stuinfo(name,*args,country='中国'):\n",
    "    print('姓名:',name,',国家:',country,',其他:',args)\n",
    "stuinfo('李晓明',19,'良好')\n",
    "stuinfo('大卫',19,'良好',country='美国')"
   ]
  },
  {
   "cell_type": "code",
   "execution_count": 21,
   "id": "ae2ebd2f",
   "metadata": {},
   "outputs": [
    {
     "name": "stdout",
     "output_type": "stream",
     "text": [
      "{'country': 'CN', 'cs': 'fine'}\n"
     ]
    }
   ],
   "source": [
    "def stuinfo(**info):\n",
    "    print(info)\n",
    "d={'country':'CN','cs':'fine'}\n",
    "stuinfo(**d)"
   ]
  },
  {
   "cell_type": "code",
   "execution_count": 3,
   "id": "f0483078",
   "metadata": {},
   "outputs": [
    {
     "name": "stdout",
     "output_type": "stream",
     "text": [
      "[1, 1, 2, 3, 5]\n"
     ]
    }
   ],
   "source": [
    "import fibo\n",
    "print(fibo.GetFibo(5))"
   ]
  },
  {
   "cell_type": "code",
   "execution_count": 2,
   "id": "b0aa5704",
   "metadata": {},
   "outputs": [
    {
     "name": "stdout",
     "output_type": "stream",
     "text": [
      "1 1 2 3 5 \n"
     ]
    }
   ],
   "source": [
    "!python test1.py"
   ]
  },
  {
   "cell_type": "code",
   "execution_count": 7,
   "id": "8e5d8a92",
   "metadata": {},
   "outputs": [],
   "source": [
    "!python fibo.py"
   ]
  },
  {
   "cell_type": "code",
   "execution_count": 6,
   "id": "37bed509",
   "metadata": {},
   "outputs": [
    {
     "name": "stdout",
     "output_type": "stream",
     "text": [
      "1 1 2 3 5 \n"
     ]
    }
   ],
   "source": [
    "!python test1.py"
   ]
  },
  {
   "cell_type": "code",
   "execution_count": 8,
   "id": "9bfcfe2a",
   "metadata": {},
   "outputs": [
    {
     "name": "stdout",
     "output_type": "stream",
     "text": [
      "[1, 1, 2, 3, 5]\n"
     ]
    }
   ],
   "source": [
    "from  fibo import PrintFibo,GetFibo\n",
    "print(fibo.GetFibo(5))\n"
   ]
  },
  {
   "cell_type": "code",
   "execution_count": 9,
   "id": "b72c8557",
   "metadata": {},
   "outputs": [],
   "source": [
    "import numpy"
   ]
  },
  {
   "cell_type": "code",
   "execution_count": 5,
   "id": "34ae428b",
   "metadata": {},
   "outputs": [
    {
     "name": "stdout",
     "output_type": "stream",
     "text": [
      "120\n"
     ]
    }
   ],
   "source": [
    "def fac(n):\n",
    "    if n==1:\n",
    "        return 1\n",
    "    return n*fact(n-1)\n",
    "print(fac(5))    "
   ]
  },
  {
   "cell_type": "code",
   "execution_count": 12,
   "id": "27e30f77",
   "metadata": {},
   "outputs": [
    {
     "name": "stdout",
     "output_type": "stream",
     "text": [
      "34\n"
     ]
    }
   ],
   "source": [
    "def funadd(f,x,y):\n",
    "    return f(x)+f(y)\n",
    "print(funadd(lambda x:x**2,3,-5))  #计算平方和"
   ]
  },
  {
   "cell_type": "code",
   "execution_count": 2,
   "id": "0727c8a6",
   "metadata": {},
   "outputs": [
    {
     "name": "stdout",
     "output_type": "stream",
     "text": [
      "<__main__.stu object at 0x0000029E9976F250>\n"
     ]
    }
   ],
   "source": [
    "class stu:\n",
    "    pass\n",
    "if __name__=='__main__':\n",
    "    stud=stu()\n",
    "    print(stud)"
   ]
  },
  {
   "cell_type": "code",
   "execution_count": 4,
   "id": "fdad65b9",
   "metadata": {},
   "outputs": [
    {
     "data": {
      "text/plain": [
       "1281006118080"
      ]
     },
     "execution_count": 4,
     "metadata": {},
     "output_type": "execute_result"
    }
   ],
   "source": [
    "import copy\n",
    "spam = ['a', 'b', 'c', 'd']\n",
    "id(spam)\n"
   ]
  },
  {
   "cell_type": "code",
   "execution_count": 8,
   "id": "423f7a8b",
   "metadata": {},
   "outputs": [
    {
     "data": {
      "text/plain": [
       "False"
      ]
     },
     "execution_count": 8,
     "metadata": {},
     "output_type": "execute_result"
    }
   ],
   "source": [
    "'hello' in 'hello world'"
   ]
  },
  {
   "cell_type": "code",
   "execution_count": 15,
   "id": "582ae5c4",
   "metadata": {},
   "outputs": [
    {
     "data": {
      "text/plain": [
       "'My name is A1. I am 4001 years old.'"
      ]
     },
     "execution_count": 15,
     "metadata": {},
     "output_type": "execute_result"
    }
   ],
   "source": [
    "name = 'A1'\n",
    "age = 4000\n",
    "'My name is %s. I am %d years old.' %(name,age)\n",
    "f'My name is {name}. I am {age+1} years old.'"
   ]
  },
  {
   "cell_type": "code",
   "execution_count": 16,
   "id": "9aa67420",
   "metadata": {},
   "outputs": [
    {
     "data": {
      "text/plain": [
       "'HELLO, WORLD!'"
      ]
     },
     "execution_count": 16,
     "metadata": {},
     "output_type": "execute_result"
    }
   ],
   "source": [
    "spam = 'Hello, world!'\n",
    "spam = spam.upper()\n",
    "spam"
   ]
  },
  {
   "cell_type": "code",
   "execution_count": 23,
   "id": "00ab5502",
   "metadata": {},
   "outputs": [
    {
     "data": {
      "text/plain": [
       "True"
      ]
     },
     "execution_count": 23,
     "metadata": {},
     "output_type": "execute_result"
    }
   ],
   "source": [
    "'123hello'.isalnum()"
   ]
  },
  {
   "cell_type": "code",
   "execution_count": null,
   "id": "85078c0c",
   "metadata": {},
   "outputs": [],
   "source": [
    " "
   ]
  }
 ],
 "metadata": {
  "kernelspec": {
   "display_name": "Python 3 (ipykernel)",
   "language": "python",
   "name": "python3"
  },
  "language_info": {
   "codemirror_mode": {
    "name": "ipython",
    "version": 3
   },
   "file_extension": ".py",
   "mimetype": "text/x-python",
   "name": "python",
   "nbconvert_exporter": "python",
   "pygments_lexer": "ipython3",
   "version": "3.8.8"
  }
 },
 "nbformat": 4,
 "nbformat_minor": 5
}
